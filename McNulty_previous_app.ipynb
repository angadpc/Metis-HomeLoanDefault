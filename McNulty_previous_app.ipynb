{
 "cells": [
  {
   "cell_type": "code",
   "execution_count": 154,
   "metadata": {},
   "outputs": [],
   "source": [
    "import pandas as pd\n",
    "import numpy as np\n",
    "import json\n",
    "import pickle\n",
    "from pandas.io.json import json_normalize\n",
    "from sklearn.model_selection import KFold\n",
    "from sklearn.model_selection import train_test_split\n",
    "from sklearn.ensemble import RandomForestClassifier\n",
    "from sklearn.linear_model import LinearRegression\n",
    "import sys\n",
    "from sklearn.metrics import roc_auc_score\n",
    "import xgboost as xgb\n",
    "from xgboost import XGBClassifier\n",
    "from xgboost import plot_importance\n",
    "from matplotlib import pyplot as plt"
   ]
  },
  {
   "cell_type": "code",
   "execution_count": 155,
   "metadata": {},
   "outputs": [
    {
     "name": "stdout",
     "output_type": "stream",
     "text": [
      "Requirement already satisfied: xgboost in /anaconda3/lib/python3.6/site-packages (0.80)\n",
      "Requirement already satisfied: numpy in /anaconda3/lib/python3.6/site-packages (from xgboost) (1.14.3)\n",
      "Requirement already satisfied: scipy in /anaconda3/lib/python3.6/site-packages (from xgboost) (1.1.0)\n"
     ]
    }
   ],
   "source": [
    "!{sys.executable} -m pip install xgboost"
   ]
  },
  {
   "cell_type": "code",
   "execution_count": 156,
   "metadata": {},
   "outputs": [],
   "source": [
    "import xgboost as xgb\n",
    "from xgboost import XGBClassifier\n",
    "from xgboost import plot_importance\n",
    "from matplotlib import pyplot as plt"
   ]
  },
  {
   "cell_type": "code",
   "execution_count": 157,
   "metadata": {},
   "outputs": [],
   "source": [
    "with open(\"previous_application.pkl\", 'rb') as picklefile: \n",
    "    previous_application_df = pickle.load(picklefile)\n",
    "with open(\"df_application_v2.pkl\", 'rb') as picklefile: \n",
    "    df_application_v2 = pickle.load(picklefile)"
   ]
  },
  {
   "cell_type": "code",
   "execution_count": 158,
   "metadata": {},
   "outputs": [
    {
     "data": {
      "text/plain": [
       "Index(['SK_ID_PREV', 'SK_ID_CURR', 'NAME_CONTRACT_TYPE', 'AMT_ANNUITY',\n",
       "       'AMT_APPLICATION', 'AMT_CREDIT', 'AMT_DOWN_PAYMENT', 'AMT_GOODS_PRICE',\n",
       "       'WEEKDAY_APPR_PROCESS_START', 'HOUR_APPR_PROCESS_START',\n",
       "       'FLAG_LAST_APPL_PER_CONTRACT', 'NFLAG_LAST_APPL_IN_DAY',\n",
       "       'RATE_DOWN_PAYMENT', 'RATE_INTEREST_PRIMARY',\n",
       "       'RATE_INTEREST_PRIVILEGED', 'NAME_CASH_LOAN_PURPOSE',\n",
       "       'NAME_CONTRACT_STATUS', 'DAYS_DECISION', 'NAME_PAYMENT_TYPE',\n",
       "       'CODE_REJECT_REASON', 'NAME_TYPE_SUITE', 'NAME_CLIENT_TYPE',\n",
       "       'NAME_GOODS_CATEGORY', 'NAME_PORTFOLIO', 'NAME_PRODUCT_TYPE',\n",
       "       'CHANNEL_TYPE', 'SELLERPLACE_AREA', 'NAME_SELLER_INDUSTRY',\n",
       "       'CNT_PAYMENT', 'NAME_YIELD_GROUP', 'PRODUCT_COMBINATION',\n",
       "       'DAYS_FIRST_DRAWING', 'DAYS_FIRST_DUE', 'DAYS_LAST_DUE_1ST_VERSION',\n",
       "       'DAYS_LAST_DUE', 'DAYS_TERMINATION', 'NFLAG_INSURED_ON_APPROVAL'],\n",
       "      dtype='object')"
      ]
     },
     "execution_count": 158,
     "metadata": {},
     "output_type": "execute_result"
    }
   ],
   "source": [
    "previous_application_df.columns"
   ]
  },
  {
   "cell_type": "code",
   "execution_count": 159,
   "metadata": {},
   "outputs": [
    {
     "name": "stderr",
     "output_type": "stream",
     "text": [
      "Exception ignored in: <bound method DMatrix.__del__ of <xgboost.core.DMatrix object at 0x1157ca828>>\n",
      "Traceback (most recent call last):\n",
      "  File \"/anaconda3/lib/python3.6/site-packages/xgboost/core.py\", line 482, in __del__\n",
      "    if self.handle is not None:\n",
      "AttributeError: 'DMatrix' object has no attribute 'handle'\n"
     ]
    },
    {
     "data": {
      "text/html": [
       "<div>\n",
       "<style scoped>\n",
       "    .dataframe tbody tr th:only-of-type {\n",
       "        vertical-align: middle;\n",
       "    }\n",
       "\n",
       "    .dataframe tbody tr th {\n",
       "        vertical-align: top;\n",
       "    }\n",
       "\n",
       "    .dataframe thead th {\n",
       "        text-align: right;\n",
       "    }\n",
       "</style>\n",
       "<table border=\"1\" class=\"dataframe\">\n",
       "  <thead>\n",
       "    <tr style=\"text-align: right;\">\n",
       "      <th></th>\n",
       "      <th>SK_ID_PREV</th>\n",
       "      <th>SK_ID_CURR</th>\n",
       "      <th>NAME_CONTRACT_TYPE</th>\n",
       "      <th>AMT_ANNUITY</th>\n",
       "      <th>AMT_APPLICATION</th>\n",
       "      <th>AMT_CREDIT</th>\n",
       "      <th>AMT_DOWN_PAYMENT</th>\n",
       "      <th>AMT_GOODS_PRICE</th>\n",
       "      <th>WEEKDAY_APPR_PROCESS_START</th>\n",
       "      <th>HOUR_APPR_PROCESS_START</th>\n",
       "      <th>...</th>\n",
       "      <th>NAME_SELLER_INDUSTRY</th>\n",
       "      <th>CNT_PAYMENT</th>\n",
       "      <th>NAME_YIELD_GROUP</th>\n",
       "      <th>PRODUCT_COMBINATION</th>\n",
       "      <th>DAYS_FIRST_DRAWING</th>\n",
       "      <th>DAYS_FIRST_DUE</th>\n",
       "      <th>DAYS_LAST_DUE_1ST_VERSION</th>\n",
       "      <th>DAYS_LAST_DUE</th>\n",
       "      <th>DAYS_TERMINATION</th>\n",
       "      <th>NFLAG_INSURED_ON_APPROVAL</th>\n",
       "    </tr>\n",
       "  </thead>\n",
       "  <tbody>\n",
       "    <tr>\n",
       "      <th>23</th>\n",
       "      <td>1172937</td>\n",
       "      <td>302212</td>\n",
       "      <td>Cash loans</td>\n",
       "      <td>39475.305</td>\n",
       "      <td>1129500.0</td>\n",
       "      <td>1277104.5</td>\n",
       "      <td>NaN</td>\n",
       "      <td>1129500.0</td>\n",
       "      <td>THURSDAY</td>\n",
       "      <td>5</td>\n",
       "      <td>...</td>\n",
       "      <td>XNA</td>\n",
       "      <td>54.0</td>\n",
       "      <td>low_normal</td>\n",
       "      <td>Cash X-Sell: low</td>\n",
       "      <td>NaN</td>\n",
       "      <td>NaN</td>\n",
       "      <td>NaN</td>\n",
       "      <td>NaN</td>\n",
       "      <td>NaN</td>\n",
       "      <td>NaN</td>\n",
       "    </tr>\n",
       "    <tr>\n",
       "      <th>115</th>\n",
       "      <td>2686051</td>\n",
       "      <td>101529</td>\n",
       "      <td>Cash loans</td>\n",
       "      <td>NaN</td>\n",
       "      <td>0.0</td>\n",
       "      <td>0.0</td>\n",
       "      <td>NaN</td>\n",
       "      <td>NaN</td>\n",
       "      <td>TUESDAY</td>\n",
       "      <td>9</td>\n",
       "      <td>...</td>\n",
       "      <td>XNA</td>\n",
       "      <td>NaN</td>\n",
       "      <td>XNA</td>\n",
       "      <td>Cash</td>\n",
       "      <td>NaN</td>\n",
       "      <td>NaN</td>\n",
       "      <td>NaN</td>\n",
       "      <td>NaN</td>\n",
       "      <td>NaN</td>\n",
       "      <td>NaN</td>\n",
       "    </tr>\n",
       "    <tr>\n",
       "      <th>180</th>\n",
       "      <td>1630059</td>\n",
       "      <td>405785</td>\n",
       "      <td>Consumer loans</td>\n",
       "      <td>4550.535</td>\n",
       "      <td>28300.5</td>\n",
       "      <td>22617.0</td>\n",
       "      <td>6750.0</td>\n",
       "      <td>28300.5</td>\n",
       "      <td>FRIDAY</td>\n",
       "      <td>10</td>\n",
       "      <td>...</td>\n",
       "      <td>Connectivity</td>\n",
       "      <td>6.0</td>\n",
       "      <td>high</td>\n",
       "      <td>POS mobile with interest</td>\n",
       "      <td>365243.0</td>\n",
       "      <td>-2005.0</td>\n",
       "      <td>-1855.0</td>\n",
       "      <td>-1855.0</td>\n",
       "      <td>-1851.0</td>\n",
       "      <td>0.0</td>\n",
       "    </tr>\n",
       "    <tr>\n",
       "      <th>217</th>\n",
       "      <td>1129372</td>\n",
       "      <td>203250</td>\n",
       "      <td>Cash loans</td>\n",
       "      <td>31952.205</td>\n",
       "      <td>495000.0</td>\n",
       "      <td>553806.0</td>\n",
       "      <td>NaN</td>\n",
       "      <td>495000.0</td>\n",
       "      <td>THURSDAY</td>\n",
       "      <td>10</td>\n",
       "      <td>...</td>\n",
       "      <td>XNA</td>\n",
       "      <td>36.0</td>\n",
       "      <td>high</td>\n",
       "      <td>Cash X-Sell: high</td>\n",
       "      <td>365243.0</td>\n",
       "      <td>-829.0</td>\n",
       "      <td>221.0</td>\n",
       "      <td>-769.0</td>\n",
       "      <td>-765.0</td>\n",
       "      <td>1.0</td>\n",
       "    </tr>\n",
       "    <tr>\n",
       "      <th>262</th>\n",
       "      <td>2562544</td>\n",
       "      <td>163961</td>\n",
       "      <td>Cash loans</td>\n",
       "      <td>29527.200</td>\n",
       "      <td>270000.0</td>\n",
       "      <td>270000.0</td>\n",
       "      <td>0.0</td>\n",
       "      <td>270000.0</td>\n",
       "      <td>WEDNESDAY</td>\n",
       "      <td>12</td>\n",
       "      <td>...</td>\n",
       "      <td>Consumer electronics</td>\n",
       "      <td>12.0</td>\n",
       "      <td>high</td>\n",
       "      <td>Cash Street: high</td>\n",
       "      <td>365243.0</td>\n",
       "      <td>-2307.0</td>\n",
       "      <td>-1977.0</td>\n",
       "      <td>-1977.0</td>\n",
       "      <td>-1969.0</td>\n",
       "      <td>0.0</td>\n",
       "    </tr>\n",
       "  </tbody>\n",
       "</table>\n",
       "<p>5 rows × 37 columns</p>\n",
       "</div>"
      ],
      "text/plain": [
       "     SK_ID_PREV  SK_ID_CURR NAME_CONTRACT_TYPE  AMT_ANNUITY  AMT_APPLICATION  \\\n",
       "23      1172937      302212         Cash loans    39475.305        1129500.0   \n",
       "115     2686051      101529         Cash loans          NaN              0.0   \n",
       "180     1630059      405785     Consumer loans     4550.535          28300.5   \n",
       "217     1129372      203250         Cash loans    31952.205         495000.0   \n",
       "262     2562544      163961         Cash loans    29527.200         270000.0   \n",
       "\n",
       "     AMT_CREDIT  AMT_DOWN_PAYMENT  AMT_GOODS_PRICE WEEKDAY_APPR_PROCESS_START  \\\n",
       "23    1277104.5               NaN        1129500.0                   THURSDAY   \n",
       "115         0.0               NaN              NaN                    TUESDAY   \n",
       "180     22617.0            6750.0          28300.5                     FRIDAY   \n",
       "217    553806.0               NaN         495000.0                   THURSDAY   \n",
       "262    270000.0               0.0         270000.0                  WEDNESDAY   \n",
       "\n",
       "     HOUR_APPR_PROCESS_START            ...             NAME_SELLER_INDUSTRY  \\\n",
       "23                         5            ...                              XNA   \n",
       "115                        9            ...                              XNA   \n",
       "180                       10            ...                     Connectivity   \n",
       "217                       10            ...                              XNA   \n",
       "262                       12            ...             Consumer electronics   \n",
       "\n",
       "     CNT_PAYMENT  NAME_YIELD_GROUP       PRODUCT_COMBINATION  \\\n",
       "23          54.0        low_normal          Cash X-Sell: low   \n",
       "115          NaN               XNA                      Cash   \n",
       "180          6.0              high  POS mobile with interest   \n",
       "217         36.0              high         Cash X-Sell: high   \n",
       "262         12.0              high         Cash Street: high   \n",
       "\n",
       "     DAYS_FIRST_DRAWING DAYS_FIRST_DUE DAYS_LAST_DUE_1ST_VERSION  \\\n",
       "23                  NaN            NaN                       NaN   \n",
       "115                 NaN            NaN                       NaN   \n",
       "180            365243.0        -2005.0                   -1855.0   \n",
       "217            365243.0         -829.0                     221.0   \n",
       "262            365243.0        -2307.0                   -1977.0   \n",
       "\n",
       "     DAYS_LAST_DUE DAYS_TERMINATION NFLAG_INSURED_ON_APPROVAL  \n",
       "23             NaN              NaN                       NaN  \n",
       "115            NaN              NaN                       NaN  \n",
       "180        -1855.0          -1851.0                       0.0  \n",
       "217         -769.0           -765.0                       1.0  \n",
       "262        -1977.0          -1969.0                       0.0  \n",
       "\n",
       "[5 rows x 37 columns]"
      ]
     },
     "execution_count": 159,
     "metadata": {},
     "output_type": "execute_result"
    }
   ],
   "source": [
    "previous_application_df[previous_application_df.duplicated(subset=\"SK_ID_CURR\")].head()"
   ]
  },
  {
   "cell_type": "code",
   "execution_count": 187,
   "metadata": {},
   "outputs": [],
   "source": [
    "previous_application_df.rename(columns={\"AMT_ANNUITY\": \"AMT_PREV_ANNUITY\", \"AMT_CREDIT\": \"AMT_PREV_CREDIT\"}, inplace=True)\n",
    "previous_application_df[\"EST_PREV_LOAN_PERIOD\"] = previous_application_df[\"AMT_PREV_CREDIT\"] / previous_application_df[\"AMT_PREV_ANNUITY\"]\n"
   ]
  },
  {
   "cell_type": "code",
   "execution_count": 188,
   "metadata": {},
   "outputs": [],
   "source": [
    "#previous_application_df.loc[previous_application_df['SK_ID_CURR'] == 187868 ]"
   ]
  },
  {
   "cell_type": "markdown",
   "metadata": {},
   "source": [
    "**Hypothesis** = The more loans previously issues, higher the chance of default. \n",
    "The below feature engineering calculates the total number of loans previously issued for a client, for each current loan applicant. "
   ]
  },
  {
   "cell_type": "code",
   "execution_count": 189,
   "metadata": {},
   "outputs": [],
   "source": [
    "num_loans_prev_issued = previous_application_df[\"SK_ID_CURR\"].value_counts().reset_index()"
   ]
  },
  {
   "cell_type": "code",
   "execution_count": 190,
   "metadata": {},
   "outputs": [],
   "source": [
    "num_loans_prev_issued.rename(index=str, columns={\"index\":\"SK_ID_CURR\", \"SK_ID_CURR\":\"NUM_LOANS_PREV_ISSUED\"}, inplace=True)"
   ]
  },
  {
   "cell_type": "code",
   "execution_count": 191,
   "metadata": {},
   "outputs": [
    {
     "data": {
      "text/html": [
       "<div>\n",
       "<style scoped>\n",
       "    .dataframe tbody tr th:only-of-type {\n",
       "        vertical-align: middle;\n",
       "    }\n",
       "\n",
       "    .dataframe tbody tr th {\n",
       "        vertical-align: top;\n",
       "    }\n",
       "\n",
       "    .dataframe thead th {\n",
       "        text-align: right;\n",
       "    }\n",
       "</style>\n",
       "<table border=\"1\" class=\"dataframe\">\n",
       "  <thead>\n",
       "    <tr style=\"text-align: right;\">\n",
       "      <th></th>\n",
       "      <th>SK_ID_CURR</th>\n",
       "      <th>NUM_LOANS_PREV_ISSUED</th>\n",
       "    </tr>\n",
       "  </thead>\n",
       "  <tbody>\n",
       "    <tr>\n",
       "      <th>0</th>\n",
       "      <td>187868</td>\n",
       "      <td>77</td>\n",
       "    </tr>\n",
       "    <tr>\n",
       "      <th>1</th>\n",
       "      <td>265681</td>\n",
       "      <td>73</td>\n",
       "    </tr>\n",
       "    <tr>\n",
       "      <th>2</th>\n",
       "      <td>173680</td>\n",
       "      <td>72</td>\n",
       "    </tr>\n",
       "    <tr>\n",
       "      <th>3</th>\n",
       "      <td>242412</td>\n",
       "      <td>68</td>\n",
       "    </tr>\n",
       "    <tr>\n",
       "      <th>4</th>\n",
       "      <td>206783</td>\n",
       "      <td>67</td>\n",
       "    </tr>\n",
       "    <tr>\n",
       "      <th>5</th>\n",
       "      <td>156367</td>\n",
       "      <td>66</td>\n",
       "    </tr>\n",
       "    <tr>\n",
       "      <th>6</th>\n",
       "      <td>389950</td>\n",
       "      <td>64</td>\n",
       "    </tr>\n",
       "    <tr>\n",
       "      <th>7</th>\n",
       "      <td>382179</td>\n",
       "      <td>64</td>\n",
       "    </tr>\n",
       "    <tr>\n",
       "      <th>8</th>\n",
       "      <td>198355</td>\n",
       "      <td>63</td>\n",
       "    </tr>\n",
       "    <tr>\n",
       "      <th>9</th>\n",
       "      <td>345161</td>\n",
       "      <td>62</td>\n",
       "    </tr>\n",
       "  </tbody>\n",
       "</table>\n",
       "</div>"
      ],
      "text/plain": [
       "   SK_ID_CURR  NUM_LOANS_PREV_ISSUED\n",
       "0      187868                     77\n",
       "1      265681                     73\n",
       "2      173680                     72\n",
       "3      242412                     68\n",
       "4      206783                     67\n",
       "5      156367                     66\n",
       "6      389950                     64\n",
       "7      382179                     64\n",
       "8      198355                     63\n",
       "9      345161                     62"
      ]
     },
     "execution_count": 191,
     "metadata": {},
     "output_type": "execute_result"
    }
   ],
   "source": [
    "num_loans_prev_issued.sort_values(by=\"NUM_LOANS_PREV_ISSUED\", ascending=False).head(10)"
   ]
  },
  {
   "cell_type": "code",
   "execution_count": 192,
   "metadata": {},
   "outputs": [],
   "source": [
    "with open('num_loans_prev_issued.pkl', 'wb') as picklefile:\n",
    "    pickle.dump(num_loans_prev_issued, picklefile)"
   ]
  },
  {
   "cell_type": "code",
   "execution_count": 193,
   "metadata": {},
   "outputs": [],
   "source": [
    "# IF this column value is positive, it means the client received LESS amount than the application amount. \n",
    "previous_application_df[\"AMT_APPLIED_VS_AMT_RECEIVED\"] = previous_application_df[\"AMT_APPLICATION\"] - previous_application_df[\"AMT_PREV_CREDIT\"]"
   ]
  },
  {
   "cell_type": "markdown",
   "metadata": {},
   "source": [
    "#### Below DF stores info about the average difference calculated between amount received vs ammount applied for through many loans that a particular client has previously applied for"
   ]
  },
  {
   "cell_type": "code",
   "execution_count": 194,
   "metadata": {},
   "outputs": [],
   "source": [
    "amt_applied_amt_received_diff  = previous_application_df.groupby([\"SK_ID_CURR\"])[\"AMT_APPLIED_VS_AMT_RECEIVED\"].mean().reset_index()"
   ]
  },
  {
   "cell_type": "code",
   "execution_count": 195,
   "metadata": {},
   "outputs": [],
   "source": [
    "with open('amt_applied_amt_received_diff.pkl', 'wb') as picklefile:\n",
    "    pickle.dump(amt_applied_amt_received_diff, picklefile)"
   ]
  },
  {
   "cell_type": "code",
   "execution_count": 196,
   "metadata": {},
   "outputs": [
    {
     "data": {
      "text/plain": [
       "array(['Mobile', 'XNA', 'Consumer Electronics', 'Construction Materials',\n",
       "       'Auto Accessories', 'Photo / Cinema Equipment', 'Computers',\n",
       "       'Audio/Video', 'Medicine', 'Clothing and Accessories', 'Furniture',\n",
       "       'Sport and Leisure', 'Homewares', 'Gardening', 'Jewelry',\n",
       "       'Vehicles', 'Education', 'Medical Supplies', 'Other',\n",
       "       'Direct Sales', 'Office Appliances', 'Fitness', 'Tourism',\n",
       "       'Insurance', 'Additional Service', 'Weapon', 'Animals',\n",
       "       'House Construction'], dtype=object)"
      ]
     },
     "execution_count": 196,
     "metadata": {},
     "output_type": "execute_result"
    }
   ],
   "source": [
    "previous_application_df[\"NAME_GOODS_CATEGORY\"].unique()"
   ]
  },
  {
   "cell_type": "code",
   "execution_count": 197,
   "metadata": {},
   "outputs": [],
   "source": [
    "shortened_df_application_v2 = df_application_v2[[\"SK_ID_CURR\", \"TARGET\"]]"
   ]
  },
  {
   "cell_type": "code",
   "execution_count": 198,
   "metadata": {},
   "outputs": [],
   "source": [
    "merged_df = pd.merge(previous_application_df, shortened_df_application_v2, how=\"inner\", on=[\"SK_ID_CURR\"])"
   ]
  },
  {
   "cell_type": "code",
   "execution_count": 199,
   "metadata": {},
   "outputs": [],
   "source": [
    "merged_df = pd.get_dummies(merged_df)"
   ]
  },
  {
   "cell_type": "code",
   "execution_count": 200,
   "metadata": {},
   "outputs": [],
   "source": [
    "X = merged_df.drop(columns = [\"TARGET\"])\n",
    "y = merged_df[\"TARGET\"]\n",
    "X = X.fillna(-99999)\n",
    "\n"
   ]
  },
  {
   "cell_type": "code",
   "execution_count": 201,
   "metadata": {},
   "outputs": [],
   "source": [
    "kf = KFold(n_splits=5)\n",
    "scores = 0\n",
    "for train_appl, val_appl in kf.split(X, y):\n",
    "    model1 = xgb.XGBClassifier()\n",
    "    model1.fit(X.values[val_appl],y.values[val_appl])\n",
    "    scores = (roc_auc_score(y[train_appl],model1.predict_proba(X.values[train_appl])[:,1]))    "
   ]
  },
  {
   "cell_type": "code",
   "execution_count": 204,
   "metadata": {},
   "outputs": [
    {
     "data": {
      "text/plain": [
       "0.6091745180449138"
      ]
     },
     "execution_count": 204,
     "metadata": {},
     "output_type": "execute_result"
    }
   ],
   "source": [
    "scores"
   ]
  },
  {
   "cell_type": "code",
   "execution_count": 205,
   "metadata": {},
   "outputs": [
    {
     "data": {
      "text/plain": [
       "<matplotlib.axes._subplots.AxesSubplot at 0x1ab44f8da0>"
      ]
     },
     "execution_count": 205,
     "metadata": {},
     "output_type": "execute_result"
    },
    {
     "data": {
      "image/png": "[encoded data removed]",
      "text/plain": [
       "<Figure size 432x288 with 1 Axes>"
      ]
     },
     "metadata": {},
     "output_type": "display_data"
    }
   ],
   "source": [
    "xgb.plot_importance(model1, max_num_features=20)"
   ]
  },
  {
   "cell_type": "code",
   "execution_count": 212,
   "metadata": {},
   "outputs": [
    {
     "ename": "NameError",
     "evalue": "name 'X1' is not defined",
     "output_type": "error",
     "traceback": [
      "\u001b[0;31m---------------------------------------------------------------------------\u001b[0m",
      "\u001b[0;31mNameError\u001b[0m                                 Traceback (most recent call last)",
      "\u001b[0;32m<ipython-input-212-acd3326ae7ba>\u001b[0m in \u001b[0;36m<module>\u001b[0;34m()\u001b[0m\n\u001b[0;32m----> 1\u001b[0;31m \u001b[0mdtrain\u001b[0m \u001b[0;34m=\u001b[0m \u001b[0mxgb\u001b[0m\u001b[0;34m.\u001b[0m\u001b[0mDMatrix\u001b[0m\u001b[0;34m(\u001b[0m \u001b[0mX1\u001b[0m\u001b[0;34m,\u001b[0m \u001b[0mlabel\u001b[0m\u001b[0;34m=\u001b[0m\u001b[0my1\u001b[0m\u001b[0;34m)\u001b[0m\u001b[0;34m\u001b[0m\u001b[0m\n\u001b[0m\u001b[1;32m      2\u001b[0m \u001b[0mdtrain\u001b[0m\u001b[0;34m.\u001b[0m\u001b[0mfeature_names\u001b[0m\u001b[0;34m\u001b[0m\u001b[0m\n",
      "\u001b[0;31mNameError\u001b[0m: name 'X1' is not defined"
     ]
    }
   ],
   "source": [
    "dtrain = xgb.DMatrix( X1, label=y1)\n",
    "dtrain.feature_names"
   ]
  },
  {
   "cell_type": "code",
   "execution_count": 206,
   "metadata": {},
   "outputs": [],
   "source": [
    "training_set_columns = X.columns"
   ]
  },
  {
   "cell_type": "code",
   "execution_count": 207,
   "metadata": {},
   "outputs": [
    {
     "data": {
      "text/plain": [
       "'DAYS_TERMINATION'"
      ]
     },
     "execution_count": 207,
     "metadata": {},
     "output_type": "execute_result"
    }
   ],
   "source": [
    "training_set_columns[19]"
   ]
  },
  {
   "cell_type": "code",
   "execution_count": 208,
   "metadata": {},
   "outputs": [],
   "source": [
    "most_imp_columns_merge_df = merged_df.groupby([\"SK_ID_CURR\"])[[\"DAYS_DECISION\", \"AMT_PREV_ANNUITY\", \"EST_PREV_LOAN_PERIOD\"\n",
    "                                                                            , \"NAME_CONTRACT_TYPE_Cash loans\", \"CNT_PAYMENT\", \"NAME_CLIENT_TYPE_Refreshed\", \n",
    "                                                                             \"DAYS_LAST_DUE_1ST_VERSION\", \"HOUR_APPR_PROCESS_START\", \"DAYS_FIRST_DRAWING\",\n",
    "                                                                             \"NAME_YIELD_GROUP_low_action\", \"SELLERPLACE_AREA\", \"NAME_CONTRACT_STATUS_Unused offer\", \n",
    "                                                                             \"DAYS_TERMINATION\"]].mean().reset_index()"
   ]
  },
  {
   "cell_type": "code",
   "execution_count": 209,
   "metadata": {},
   "outputs": [
    {
     "data": {
      "text/html": [
       "<div>\n",
       "<style scoped>\n",
       "    .dataframe tbody tr th:only-of-type {\n",
       "        vertical-align: middle;\n",
       "    }\n",
       "\n",
       "    .dataframe tbody tr th {\n",
       "        vertical-align: top;\n",
       "    }\n",
       "\n",
       "    .dataframe thead th {\n",
       "        text-align: right;\n",
       "    }\n",
       "</style>\n",
       "<table border=\"1\" class=\"dataframe\">\n",
       "  <thead>\n",
       "    <tr style=\"text-align: right;\">\n",
       "      <th></th>\n",
       "      <th>SK_ID_CURR</th>\n",
       "      <th>DAYS_DECISION</th>\n",
       "      <th>AMT_PREV_ANNUITY</th>\n",
       "      <th>EST_PREV_LOAN_PERIOD</th>\n",
       "      <th>NAME_CONTRACT_TYPE_Cash loans</th>\n",
       "      <th>CNT_PAYMENT</th>\n",
       "      <th>NAME_CLIENT_TYPE_Refreshed</th>\n",
       "      <th>DAYS_LAST_DUE_1ST_VERSION</th>\n",
       "      <th>HOUR_APPR_PROCESS_START</th>\n",
       "      <th>DAYS_FIRST_DRAWING</th>\n",
       "      <th>NAME_YIELD_GROUP_low_action</th>\n",
       "      <th>SELLERPLACE_AREA</th>\n",
       "      <th>NAME_CONTRACT_STATUS_Unused offer</th>\n",
       "      <th>DAYS_TERMINATION</th>\n",
       "    </tr>\n",
       "  </thead>\n",
       "  <tbody>\n",
       "    <tr>\n",
       "      <th>0</th>\n",
       "      <td>100002</td>\n",
       "      <td>-606.000000</td>\n",
       "      <td>9251.775</td>\n",
       "      <td>19.353584</td>\n",
       "      <td>0.000000</td>\n",
       "      <td>24.000000</td>\n",
       "      <td>0.000000</td>\n",
       "      <td>125.000000</td>\n",
       "      <td>9.000000</td>\n",
       "      <td>365243.0</td>\n",
       "      <td>0.0</td>\n",
       "      <td>500.000000</td>\n",
       "      <td>0.0</td>\n",
       "      <td>-17.000000</td>\n",
       "    </tr>\n",
       "    <tr>\n",
       "      <th>1</th>\n",
       "      <td>100003</td>\n",
       "      <td>-1305.000000</td>\n",
       "      <td>56553.990</td>\n",
       "      <td>8.677472</td>\n",
       "      <td>0.333333</td>\n",
       "      <td>10.000000</td>\n",
       "      <td>0.666667</td>\n",
       "      <td>-1004.333333</td>\n",
       "      <td>14.666667</td>\n",
       "      <td>365243.0</td>\n",
       "      <td>0.0</td>\n",
       "      <td>533.000000</td>\n",
       "      <td>0.0</td>\n",
       "      <td>-1047.333333</td>\n",
       "    </tr>\n",
       "    <tr>\n",
       "      <th>2</th>\n",
       "      <td>100004</td>\n",
       "      <td>-815.000000</td>\n",
       "      <td>5357.250</td>\n",
       "      <td>3.753045</td>\n",
       "      <td>0.000000</td>\n",
       "      <td>4.000000</td>\n",
       "      <td>0.000000</td>\n",
       "      <td>-694.000000</td>\n",
       "      <td>5.000000</td>\n",
       "      <td>365243.0</td>\n",
       "      <td>0.0</td>\n",
       "      <td>30.000000</td>\n",
       "      <td>0.0</td>\n",
       "      <td>-714.000000</td>\n",
       "    </tr>\n",
       "    <tr>\n",
       "      <th>3</th>\n",
       "      <td>100006</td>\n",
       "      <td>-272.444444</td>\n",
       "      <td>23651.175</td>\n",
       "      <td>17.767287</td>\n",
       "      <td>0.555556</td>\n",
       "      <td>23.000000</td>\n",
       "      <td>0.000000</td>\n",
       "      <td>91584.000000</td>\n",
       "      <td>14.666667</td>\n",
       "      <td>365243.0</td>\n",
       "      <td>0.0</td>\n",
       "      <td>894.222222</td>\n",
       "      <td>0.0</td>\n",
       "      <td>182481.750000</td>\n",
       "    </tr>\n",
       "    <tr>\n",
       "      <th>4</th>\n",
       "      <td>100007</td>\n",
       "      <td>-1222.833333</td>\n",
       "      <td>12278.805</td>\n",
       "      <td>12.644075</td>\n",
       "      <td>0.666667</td>\n",
       "      <td>20.666667</td>\n",
       "      <td>0.000000</td>\n",
       "      <td>-837.200000</td>\n",
       "      <td>12.333333</td>\n",
       "      <td>365243.0</td>\n",
       "      <td>0.0</td>\n",
       "      <td>409.166667</td>\n",
       "      <td>0.0</td>\n",
       "      <td>72143.800000</td>\n",
       "    </tr>\n",
       "  </tbody>\n",
       "</table>\n",
       "</div>"
      ],
      "text/plain": [
       "   SK_ID_CURR  DAYS_DECISION  AMT_PREV_ANNUITY  EST_PREV_LOAN_PERIOD  \\\n",
       "0      100002    -606.000000          9251.775             19.353584   \n",
       "1      100003   -1305.000000         56553.990              8.677472   \n",
       "2      100004    -815.000000          5357.250              3.753045   \n",
       "3      100006    -272.444444         23651.175             17.767287   \n",
       "4      100007   -1222.833333         12278.805             12.644075   \n",
       "\n",
       "   NAME_CONTRACT_TYPE_Cash loans  CNT_PAYMENT  NAME_CLIENT_TYPE_Refreshed  \\\n",
       "0                       0.000000    24.000000                    0.000000   \n",
       "1                       0.333333    10.000000                    0.666667   \n",
       "2                       0.000000     4.000000                    0.000000   \n",
       "3                       0.555556    23.000000                    0.000000   \n",
       "4                       0.666667    20.666667                    0.000000   \n",
       "\n",
       "   DAYS_LAST_DUE_1ST_VERSION  HOUR_APPR_PROCESS_START  DAYS_FIRST_DRAWING  \\\n",
       "0                 125.000000                 9.000000            365243.0   \n",
       "1               -1004.333333                14.666667            365243.0   \n",
       "2                -694.000000                 5.000000            365243.0   \n",
       "3               91584.000000                14.666667            365243.0   \n",
       "4                -837.200000                12.333333            365243.0   \n",
       "\n",
       "   NAME_YIELD_GROUP_low_action  SELLERPLACE_AREA  \\\n",
       "0                          0.0        500.000000   \n",
       "1                          0.0        533.000000   \n",
       "2                          0.0         30.000000   \n",
       "3                          0.0        894.222222   \n",
       "4                          0.0        409.166667   \n",
       "\n",
       "   NAME_CONTRACT_STATUS_Unused offer  DAYS_TERMINATION  \n",
       "0                                0.0        -17.000000  \n",
       "1                                0.0      -1047.333333  \n",
       "2                                0.0       -714.000000  \n",
       "3                                0.0     182481.750000  \n",
       "4                                0.0      72143.800000  "
      ]
     },
     "execution_count": 209,
     "metadata": {},
     "output_type": "execute_result"
    }
   ],
   "source": [
    "most_imp_columns_merge_df.head()"
   ]
  },
  {
   "cell_type": "code",
   "execution_count": 210,
   "metadata": {},
   "outputs": [],
   "source": [
    "with open('most_imp_columns_merge_prevapp_df.pkl', 'wb') as picklefile:\n",
    "    pickle.dump(most_imp_columns_merge_df, picklefile)"
   ]
  },
  {
   "cell_type": "code",
   "execution_count": null,
   "metadata": {},
   "outputs": [],
   "source": []
  }
 ],
 "metadata": {
  "kernelspec": {
   "display_name": "Python 3",
   "language": "python",
   "name": "python3"
  },
  "language_info": {
   "codemirror_mode": {
    "name": "ipython",
    "version": 3
   },
   "file_extension": ".py",
   "mimetype": "text/x-python",
   "name": "python",
   "nbconvert_exporter": "python",
   "pygments_lexer": "ipython3",
   "version": "3.6.5"
  }
 },
 "nbformat": 4,
 "nbformat_minor": 2
}
